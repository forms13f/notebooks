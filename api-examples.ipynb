{
 "cells": [
  {
   "cell_type": "code",
   "id": "503ce128-5e2c-40a9-8b91-7a84a68611a6",
   "metadata": {
    "ExecuteTime": {
     "end_time": "2024-10-19T06:21:39.037272Z",
     "start_time": "2024-10-19T06:21:38.926912Z"
    }
   },
   "source": [
    "# install forms13f python sdk\n",
    "try:\n",
    "    import forms13f \n",
    "    print('forms13f forms13f package is already installed')\n",
    "except ImportError:\n",
    "    # Package not found, so install it from GitHub\n",
    "    !pip install git+https://github.com/forms13f/python-sdk.git\n"
   ],
   "outputs": [
    {
     "name": "stdout",
     "output_type": "stream",
     "text": [
      "forms13f forms13f package is already installed\n"
     ]
    }
   ],
   "execution_count": 1
  },
  {
   "cell_type": "code",
   "id": "45f91fe7-57c5-467b-86de-a5d5bd51119c",
   "metadata": {
    "ExecuteTime": {
     "end_time": "2024-10-19T06:21:39.154505Z",
     "start_time": "2024-10-19T06:21:39.098959Z"
    }
   },
   "source": [
    "# /api/v1/filers example\n",
    "#\n",
    "# Retrieve all filers CIKs and their names\n",
    "#\n",
    "from forms13f.rest import ApiException\n",
    "from forms13f.api.default_api import DefaultApi\n",
    "from pprint import pprint\n",
    "\n",
    "# Create an instance of the API class\n",
    "api_instance = DefaultApi()\n",
    "offset = 0  # Integer | Skip previous offset CIKs (optional) (default to 0)\n",
    "limit = 10  # Integer | Return max limit CIKs (optional) (default to 100)\n",
    "\n",
    "try:\n",
    "    # Retrieve unique filers\n",
    "    api_response = api_instance.api_v1_filers_get(offset=offset, limit=limit)\n",
    "    pprint(api_response)\n",
    "except ApiException as e:\n",
    "    print(\"Exception when calling DefaultApi->api_v1_filers_get: %s\\n\" % e)\n",
    "\n"
   ],
   "outputs": [
    {
     "name": "stdout",
     "output_type": "stream",
     "text": [
      "[ApiV1Filer(cik='0000002230', company_names=['ADAMS DIVERSIFIED EQUITY FUND, INC.']),\n",
      " ApiV1Filer(cik='0000003520', company_names=['FRED ALGER MANAGEMENT, LLC']),\n",
      " ApiV1Filer(cik='0000004962', company_names=['AMERICAN EXPRESS CO']),\n",
      " ApiV1Filer(cik='0000004977', company_names=['AFLAC INC']),\n",
      " ApiV1Filer(cik='0000005272', company_names=['AMERICAN INTERNATIONAL GROUP, INC.']),\n",
      " ApiV1Filer(cik='0000007195', company_names=[\"ARGUS INVESTORS' COUNSEL, INC.\"]),\n",
      " ApiV1Filer(cik='0000007773', company_names=['ASSET PLANNING CORPORATION']),\n",
      " ApiV1Filer(cik='0000007789', company_names=['ASSOCIATED BANC-CORP']),\n",
      " ApiV1Filer(cik='0000009015', company_names=['BARINGS LLC']),\n",
      " ApiV1Filer(cik='0000009631', company_names=['BANK OF NOVA SCOTIA'])]\n"
     ]
    }
   ],
   "execution_count": 2
  },
  {
   "cell_type": "code",
   "id": "9af69b66-638f-4ed9-97ba-52eca3fa477a",
   "metadata": {
    "ExecuteTime": {
     "end_time": "2024-10-19T06:21:39.261873Z",
     "start_time": "2024-10-19T06:21:39.188859Z"
    }
   },
   "source": [
    "# /api/v1/funds example\n",
    "# \n",
    "# Retrieve all funds (filers) which has a substring in their name\n",
    "# It uses case insensitive match\n",
    "#\n",
    "\n",
    "from __future__ import print_function\n",
    "import time\n",
    "from pprint import pprint\n",
    "import forms13f\n",
    "from forms13f.rest import ApiException\n",
    "\n",
    "# Create an instance of the API class\n",
    "api_instance = forms13f.DefaultApi()\n",
    "name = \"berkshire\"  # String | Filter companies by name (optional) (default to null)\n",
    "offset = 0  # Integer | Skip previous offset companies (optional) (default to 0)\n",
    "limit = 10  # Integer | Return max limit companies (optional) (default to 100)\n",
    "\n",
    "try:\n",
    "    # Retrieve unique companies\n",
    "    api_response = api_instance.api_v1_funds_get(name=name, offset=offset, limit=limit)\n",
    "    pprint(api_response)\n",
    "except ApiException as e:\n",
    "    print(\"Exception when calling DefaultApi->api_v1_funds_get: %s\\n\" % e)\n"
   ],
   "outputs": [
    {
     "name": "stdout",
     "output_type": "stream",
     "text": [
      "[ApiV1Fund(name='BERKSHIRE ASSET MANAGEMENT LLC/PA', cik='0000949012'),\n",
      " ApiV1Fund(name='Berkshire Bank', cik='0001831984'),\n",
      " ApiV1Fund(name='BERKSHIRE CAPITAL HOLDINGS INC', cik='0001133742'),\n",
      " ApiV1Fund(name='BERKSHIRE HATHAWAY INC', cik='0001067983'),\n",
      " ApiV1Fund(name='Berkshire Money Management, Inc.', cik='0001535172'),\n",
      " ApiV1Fund(name='Berkshire Partners LLC', cik='0001312988')]\n"
     ]
    }
   ],
   "execution_count": 3
  },
  {
   "cell_type": "code",
   "id": "ad0701cf-dcfb-4746-920f-6255b6c2b702",
   "metadata": {
    "ExecuteTime": {
     "end_time": "2024-10-19T06:21:39.315023Z",
     "start_time": "2024-10-19T06:21:39.266198Z"
    }
   },
   "source": [
    "# /api/v1/filer example\n",
    "#\n",
    "# Get all known company names for a given filer CIK (Central IndexKey)\n",
    "#\n",
    "\n",
    "from forms13f.rest import ApiException\n",
    "from forms13f.api.default_api import DefaultApi, ApiClient\n",
    "from pprint import pprint\n",
    "\n",
    "# Use api client with exponential backoff and retries for 429 status codes (rate limit exceeded)\n",
    "api_client_with_retry = ApiClient(n_retries=5)\n",
    "api_instance = DefaultApi(api_client_with_retry)\n",
    "cik = \"1012622\"  # String | The Central Index Key (CIK) of the filer.\n",
    "\n",
    "\n",
    "try:\n",
    "    # Retrieve a filer by CIK\n",
    "    api_response = api_instance.api_v1_filer_get(cik)\n",
    "    pprint(api_response)\n",
    "except ApiException as e:\n",
    "    print(\"Exception when calling DefaultApi->api_v1_filer_get: %s\\n\" % e)\n"
   ],
   "outputs": [
    {
     "name": "stdout",
     "output_type": "stream",
     "text": [
      "ApiV1Filer(cik='0001012622', company_names=['ORACLE INVESTMENT MANAGEMENT INC'])\n"
     ]
    }
   ],
   "execution_count": 4
  },
  {
   "cell_type": "code",
   "id": "1257aa09-f8fc-4493-a712-f2e3308d1fbd",
   "metadata": {
    "ExecuteTime": {
     "end_time": "2024-10-19T06:21:39.333684Z",
     "start_time": "2024-10-19T06:21:39.319548Z"
    }
   },
   "source": [
    "# /api/v1/filings example\n",
    "# Retrieve all filings from all filer in time range\n",
    "#\n",
    "\n",
    "from __future__ import print_function\n",
    "import time\n",
    "from pprint import pprint\n",
    "import forms13f\n",
    "from forms13f.rest import ApiException\n",
    "\n",
    "# Create an instance of the API class\n",
    "api_instance = forms13f.DefaultApi()\n",
    "from_filing_date = \"2023-01-01\"  # date | All filings returned will be on or after this filing date. (default to null)\n",
    "to_filing_date = \"2023-12-31\"  # date | All filings returned will be on or before this filing date. (default to null)\n",
    "offset = 0  # Integer | Skip the first offset filings. (optional) (default to 0)\n",
    "limit = 10  # Integer | Return at most limit filings. (optional) (default to 100)\n",
    "\n",
    "try:\n",
    "    # Retrieve 13F filings for all filers in the time range\n",
    "    api_response = api_instance.api_v1_filings_get(from_filing_date, to_filing_date, offset=offset, limit=limit)\n",
    "    pprint(api_response)\n",
    "except ApiException as e:\n",
    "    print(\"Exception when calling DefaultApi->api_v1_filings_get: %s\\n\" % e)\n"
   ],
   "outputs": [
    {
     "name": "stdout",
     "output_type": "stream",
     "text": [
      "[ApiV1Form(url='https://www.sec.gov/Archives/edgar/data/51762/0000051762-23-000005.txt', accession_number='0000051762-23-000005', submission_type='13F-HR', public_document_count=2, period_of_report=datetime.date(2023, 9, 30), filed_as_of_date=datetime.date(2023, 12, 27), date_as_of_change=datetime.date(2023, 12, 27), effectiveness_date=datetime.date(2023, 12, 27), cik='0000051762', company_name='RNC CAPITAL MANAGEMENT LLC', irs_number='952576274', state_of_incorporation='CA', fiscal_year_end='1231', form_type='13F-HR', sec_act='1934 Act', sec_file_number='028-00970', film_number='231516266', business_address='11601 WILSHIRE BLVD. 25TH FL, LOS ANGELES, CA, 90025', business_phone='3104776543', table_value_total=1611876095, table_entry_total=149, is_amendment=None, amendment_type=None, conf_denied_expired=None, conf_date_denied_expired=datetime.date(1, 1, 1), amendment_date_reported=datetime.date(1, 1, 1)),\n",
      " ApiV1Form(url='https://www.sec.gov/Archives/edgar/data/1731134/0001214659-23-016755.txt', accession_number='0001214659-23-016755', submission_type='13F-HR/A', public_document_count=2, period_of_report=datetime.date(2023, 9, 30), filed_as_of_date=datetime.date(2023, 12, 22), date_as_of_change=datetime.date(2023, 12, 22), effectiveness_date=datetime.date(2023, 12, 22), cik='0001731134', company_name='MayTech Global Investments, LLC', irs_number='814469124', state_of_incorporation='DE', fiscal_year_end=None, form_type='13F-HR/A', sec_act='1934 Act', sec_file_number='028-18381', film_number='231509620', business_address='950 THIRD AVENUE, NEW YORK, NY, 10022', business_phone='(212) 899-2735', table_value_total=429611407, table_entry_total=28, is_amendment=True, amendment_type='RESTATEMENT', conf_denied_expired=None, conf_date_denied_expired=datetime.date(1, 1, 1), amendment_date_reported=datetime.date(1, 1, 1)),\n",
      " ApiV1Form(url='https://www.sec.gov/Archives/edgar/data/2004720/0001398344-23-023281.txt', accession_number='0001398344-23-023281', submission_type='13F-HR', public_document_count=2, period_of_report=datetime.date(2016, 12, 31), filed_as_of_date=datetime.date(2023, 12, 22), date_as_of_change=datetime.date(2023, 12, 21), effectiveness_date=datetime.date(2023, 12, 22), cik='0002004720', company_name='WEST PACES ADVISORS INC.', irs_number='823839469', state_of_incorporation='GA', fiscal_year_end='1231', form_type='13F-HR', sec_act='1934 Act', sec_file_number='028-23479', film_number='231506688', business_address='3284 NORTHSIDE PARKWAY, SUITE 485, ATLANTA, GA, 30327', business_phone='(404)478-3036', table_value_total=107142392, table_entry_total=554, is_amendment=None, amendment_type=None, conf_denied_expired=None, conf_date_denied_expired=datetime.date(1, 1, 1), amendment_date_reported=datetime.date(1, 1, 1)),\n",
      " ApiV1Form(url='https://www.sec.gov/Archives/edgar/data/2004720/0001398344-23-023283.txt', accession_number='0001398344-23-023283', submission_type='13F-HR', public_document_count=2, period_of_report=datetime.date(2017, 6, 30), filed_as_of_date=datetime.date(2023, 12, 22), date_as_of_change=datetime.date(2023, 12, 21), effectiveness_date=datetime.date(2023, 12, 22), cik='0002004720', company_name='WEST PACES ADVISORS INC.', irs_number='823839469', state_of_incorporation='GA', fiscal_year_end='1231', form_type='13F-HR', sec_act='1934 Act', sec_file_number='028-23479', film_number='231506696', business_address='3284 NORTHSIDE PARKWAY, SUITE 485, ATLANTA, GA, 30327', business_phone='(404)478-3036', table_value_total=125985583, table_entry_total=509, is_amendment=None, amendment_type=None, conf_denied_expired=None, conf_date_denied_expired=datetime.date(1, 1, 1), amendment_date_reported=datetime.date(1, 1, 1)),\n",
      " ApiV1Form(url='https://www.sec.gov/Archives/edgar/data/2004720/0001398344-23-023285.txt', accession_number='0001398344-23-023285', submission_type='13F-HR', public_document_count=2, period_of_report=datetime.date(2017, 9, 30), filed_as_of_date=datetime.date(2023, 12, 22), date_as_of_change=datetime.date(2023, 12, 21), effectiveness_date=datetime.date(2023, 12, 22), cik='0002004720', company_name='WEST PACES ADVISORS INC.', irs_number='823839469', state_of_incorporation='GA', fiscal_year_end='1231', form_type='13F-HR', sec_act='1934 Act', sec_file_number='028-23479', film_number='231506709', business_address='3284 NORTHSIDE PARKWAY, SUITE 485, ATLANTA, GA, 30327', business_phone='(404)478-3036', table_value_total=132646655, table_entry_total=476, is_amendment=None, amendment_type=None, conf_denied_expired=None, conf_date_denied_expired=datetime.date(1, 1, 1), amendment_date_reported=datetime.date(1, 1, 1)),\n",
      " ApiV1Form(url='https://www.sec.gov/Archives/edgar/data/2004720/0001398344-23-023286.txt', accession_number='0001398344-23-023286', submission_type='13F-HR', public_document_count=2, period_of_report=datetime.date(2017, 3, 31), filed_as_of_date=datetime.date(2023, 12, 22), date_as_of_change=datetime.date(2023, 12, 21), effectiveness_date=datetime.date(2023, 12, 22), cik='0002004720', company_name='WEST PACES ADVISORS INC.', irs_number='823839469', state_of_incorporation='GA', fiscal_year_end='1231', form_type='13F-HR', sec_act='1934 Act', sec_file_number='028-23479', film_number='231506711', business_address='3284 NORTHSIDE PARKWAY, SUITE 485, ATLANTA, GA, 30327', business_phone='(404)478-3036', table_value_total=125401869, table_entry_total=516, is_amendment=None, amendment_type=None, conf_denied_expired=None, conf_date_denied_expired=datetime.date(1, 1, 1), amendment_date_reported=datetime.date(1, 1, 1)),\n",
      " ApiV1Form(url='https://www.sec.gov/Archives/edgar/data/2004720/0001398344-23-023291.txt', accession_number='0001398344-23-023291', submission_type='13F-HR', public_document_count=2, period_of_report=datetime.date(2017, 12, 31), filed_as_of_date=datetime.date(2023, 12, 22), date_as_of_change=datetime.date(2023, 12, 21), effectiveness_date=datetime.date(2023, 12, 22), cik='0002004720', company_name='WEST PACES ADVISORS INC.', irs_number='823839469', state_of_incorporation='GA', fiscal_year_end='1231', form_type='13F-HR', sec_act='1934 Act', sec_file_number='028-23479', film_number='231506719', business_address='3284 NORTHSIDE PARKWAY, SUITE 485, ATLANTA, GA, 30327', business_phone='(404)478-3036', table_value_total=135113315, table_entry_total=467, is_amendment=None, amendment_type=None, conf_denied_expired=None, conf_date_denied_expired=datetime.date(1, 1, 1), amendment_date_reported=datetime.date(1, 1, 1)),\n",
      " ApiV1Form(url='https://www.sec.gov/Archives/edgar/data/2004720/0001398344-23-023292.txt', accession_number='0001398344-23-023292', submission_type='13F-HR', public_document_count=2, period_of_report=datetime.date(2018, 3, 31), filed_as_of_date=datetime.date(2023, 12, 22), date_as_of_change=datetime.date(2023, 12, 21), effectiveness_date=datetime.date(2023, 12, 22), cik='0002004720', company_name='WEST PACES ADVISORS INC.', irs_number='823839469', state_of_incorporation='GA', fiscal_year_end='1231', form_type='13F-HR', sec_act='1934 Act', sec_file_number='028-23479', film_number='231506720', business_address='3284 NORTHSIDE PARKWAY, SUITE 485, ATLANTA, GA, 30327', business_phone='(404)478-3036', table_value_total=134362450, table_entry_total=450, is_amendment=None, amendment_type=None, conf_denied_expired=None, conf_date_denied_expired=datetime.date(1, 1, 1), amendment_date_reported=datetime.date(1, 1, 1)),\n",
      " ApiV1Form(url='https://www.sec.gov/Archives/edgar/data/2004720/0001398344-23-023293.txt', accession_number='0001398344-23-023293', submission_type='13F-HR', public_document_count=2, period_of_report=datetime.date(2018, 6, 30), filed_as_of_date=datetime.date(2023, 12, 22), date_as_of_change=datetime.date(2023, 12, 21), effectiveness_date=datetime.date(2023, 12, 22), cik='0002004720', company_name='WEST PACES ADVISORS INC.', irs_number='823839469', state_of_incorporation='GA', fiscal_year_end='1231', form_type='13F-HR', sec_act='1934 Act', sec_file_number='028-23479', film_number='231506722', business_address='3284 NORTHSIDE PARKWAY, SUITE 485, ATLANTA, GA, 30327', business_phone='(404)478-3036', table_value_total=133746909, table_entry_total=484, is_amendment=None, amendment_type=None, conf_denied_expired=None, conf_date_denied_expired=datetime.date(1, 1, 1), amendment_date_reported=datetime.date(1, 1, 1)),\n",
      " ApiV1Form(url='https://www.sec.gov/Archives/edgar/data/2004720/0001398344-23-023296.txt', accession_number='0001398344-23-023296', submission_type='13F-HR', public_document_count=2, period_of_report=datetime.date(2018, 12, 31), filed_as_of_date=datetime.date(2023, 12, 22), date_as_of_change=datetime.date(2023, 12, 21), effectiveness_date=datetime.date(2023, 12, 22), cik='0002004720', company_name='WEST PACES ADVISORS INC.', irs_number='823839469', state_of_incorporation='GA', fiscal_year_end='1231', form_type='13F-HR', sec_act='1934 Act', sec_file_number='028-23479', film_number='231506724', business_address='3284 NORTHSIDE PARKWAY, SUITE 485, ATLANTA, GA, 30327', business_phone='(404)478-3036', table_value_total=129656986, table_entry_total=482, is_amendment=None, amendment_type=None, conf_denied_expired=None, conf_date_denied_expired=datetime.date(1, 1, 1), amendment_date_reported=datetime.date(1, 1, 1))]\n"
     ]
    }
   ],
   "execution_count": 5
  },
  {
   "cell_type": "code",
   "id": "08d2ffe3-153b-47e6-96a7-06ac12ebd04f",
   "metadata": {
    "ExecuteTime": {
     "end_time": "2024-10-19T06:21:39.356219Z",
     "start_time": "2024-10-19T06:21:39.337974Z"
    }
   },
   "source": [
    "# /api/v1/forms example\n",
    "# \n",
    "# Get all forms for a given filer CIK in a time range\n",
    "# Note that from/to time used in this api is period of report, not a filing date\n",
    "# E.g. a report might be filed on 2024-10-14 filing date but its preiod of report is 2024-09-30 (2024-Q3) \n",
    "# Example: from 2024-01-01, to 2024-09-30 will return all forms for 2024-Q1 ... 2024-Q3 regardless of when those forms were filed\n",
    "#\n",
    "\n",
    "from __future__ import print_function\n",
    "import time\n",
    "from pprint import pprint\n",
    "\n",
    "import forms13f\n",
    "from forms13f.rest import ApiException\n",
    "\n",
    "# Create an instance of the API class\n",
    "api_instance = forms13f.DefaultApi()\n",
    "cik = \"0001067983\"  # String | The Central Index Key (CIK) of the filer. (default to null)\n",
    "from_date = \"2023-12-31\"  # String | All forms returned will be on or after this period of report date. (optional) (default to 2010-01-01)\n",
    "to_date = \"2024-12-31\"  # String | All forms returned will be on or before this period of report date. (optional) (default to 2030-01-01)\n",
    "offset = 0  # Integer | Skip the first offset forms. (optional) (default to 0)\n",
    "limit = 10  # Integer | Return at most limit forms. (optional) (default to 100)\n",
    "\n",
    "try:\n",
    "    # Retrieve SEC forms 13F for a filer\n",
    "    api_response = api_instance.api_v1_forms_get(cik, from_date, to_date, offset=offset, limit=limit)\n",
    "    pprint(api_response)\n",
    "except ApiException as e:\n",
    "    print(\"Exception when calling DefaultApi->api_v1_forms_get: %s\\n\" % e)"
   ],
   "outputs": [
    {
     "name": "stdout",
     "output_type": "stream",
     "text": [
      "[ApiV1Form(url='https://www.sec.gov/Archives/edgar/data/1067983/0000950123-24-008740.txt', accession_number='0000950123-24-008740', submission_type='13F-HR', public_document_count=2, period_of_report=datetime.date(2024, 6, 30), filed_as_of_date=datetime.date(2024, 8, 14), date_as_of_change=datetime.date(2024, 8, 14), effectiveness_date=datetime.date(2024, 8, 14), cik='0001067983', company_name='BERKSHIRE HATHAWAY INC', irs_number='470813844', state_of_incorporation='DE', fiscal_year_end='1231', form_type='13F-HR', sec_act='1934 Act', sec_file_number='028-04545', film_number='241207432', business_address='3555 FARNAM STREET, OMAHA, NE, 68131', business_phone='4023461400', table_value_total=279969062343, table_entry_total=129, is_amendment=None, amendment_type=None, conf_denied_expired=None, conf_date_denied_expired=datetime.date(1, 1, 1), amendment_date_reported=datetime.date(1, 1, 1)),\n",
      " ApiV1Form(url='https://www.sec.gov/Archives/edgar/data/1067983/0000950123-24-005622.txt', accession_number='0000950123-24-005622', submission_type='13F-HR', public_document_count=2, period_of_report=datetime.date(2024, 3, 31), filed_as_of_date=datetime.date(2024, 5, 15), date_as_of_change=datetime.date(2024, 5, 15), effectiveness_date=datetime.date(2024, 5, 15), cik='0001067983', company_name='BERKSHIRE HATHAWAY INC', irs_number='470813844', state_of_incorporation='DE', fiscal_year_end='1231', form_type='13F-HR', sec_act='1934 Act', sec_file_number='028-04545', film_number='24950290', business_address='3555 FARNAM STREET, OMAHA, NE, 68131', business_phone='4023461400', table_value_total=331680406332, table_entry_total=133, is_amendment=None, amendment_type=None, conf_denied_expired=None, conf_date_denied_expired=datetime.date(1, 1, 1), amendment_date_reported=datetime.date(1, 1, 1)),\n",
      " ApiV1Form(url='https://www.sec.gov/Archives/edgar/data/1067983/0000950123-24-005664.txt', accession_number='0000950123-24-005664', submission_type='13F-HR/A', public_document_count=2, period_of_report=datetime.date(2023, 12, 31), filed_as_of_date=datetime.date(2024, 5, 15), date_as_of_change=datetime.date(2024, 5, 15), effectiveness_date=datetime.date(2024, 5, 15), cik='0001067983', company_name='BERKSHIRE HATHAWAY INC', irs_number='470813844', state_of_incorporation='DE', fiscal_year_end='1231', form_type='13F-HR/A', sec_act='1934 Act', sec_file_number='028-04545', film_number='24950994', business_address='3555 FARNAM STREET, OMAHA, NE, 68131', business_phone='4023461400', table_value_total=4542600000, table_entry_total=1, is_amendment=True, amendment_type='NEW HOLDINGS', conf_denied_expired=True, conf_date_denied_expired=datetime.date(2024, 5, 31), amendment_date_reported=datetime.date(2024, 2, 14)),\n",
      " ApiV1Form(url='https://www.sec.gov/Archives/edgar/data/1067983/0000950123-24-002518.txt', accession_number='0000950123-24-002518', submission_type='13F-HR', public_document_count=2, period_of_report=datetime.date(2023, 12, 31), filed_as_of_date=datetime.date(2024, 2, 14), date_as_of_change=datetime.date(2024, 2, 14), effectiveness_date=datetime.date(2024, 2, 14), cik='0001067983', company_name='BERKSHIRE HATHAWAY INC', irs_number='470813844', state_of_incorporation='DE', fiscal_year_end='1231', form_type='13F-HR', sec_act='1934 Act', sec_file_number='028-04545', film_number='24637543', business_address='3555 FARNAM STREET, OMAHA, NE, 68131', business_phone='4023461400', table_value_total=347358074461, table_entry_total=138, is_amendment=None, amendment_type=None, conf_denied_expired=None, conf_date_denied_expired=datetime.date(1, 1, 1), amendment_date_reported=datetime.date(1, 1, 1))]\n"
     ]
    }
   ],
   "execution_count": 6
  },
  {
   "cell_type": "code",
   "id": "13b2e0cd-df87-4578-8a6a-6fbac4289eb4",
   "metadata": {
    "ExecuteTime": {
     "end_time": "2024-10-19T06:21:39.371301Z",
     "start_time": "2024-10-19T06:21:39.360180Z"
    }
   },
   "source": [
    "# /api/v1/form example\n",
    "# \n",
    "# Return all holdings for a form 13F with accession_number and CIK\n",
    "# Accession_number and CIK uniquely identify a form 13F \n",
    "#\n",
    "\n",
    "from __future__ import print_function\n",
    "import time\n",
    "from pprint import pprint\n",
    "import forms13f\n",
    "from forms13f.rest import ApiException\n",
    "\n",
    "# Create an instance of the API class\n",
    "api_instance = forms13f.DefaultApi()\n",
    "accession_number = \"0000950123-24-008740\"  # String | The accession number of the form entry. (default to null)\n",
    "cik = \"0001067983\"  # String | The Central Index Key (CIK) of the form entry. (default to null)\n",
    "offset = 0  # Integer | The offset for pagination. (optional) (default to 0)\n",
    "limit = 10  # Integer | The limit for pagination. (optional) (default to 100)\n",
    "\n",
    "try:\n",
    "    # Get SEC Form 13F\n",
    "    api_response = api_instance.api_v1_form_get(accession_number, cik, offset=offset, limit=limit)\n",
    "    pprint(api_response)\n",
    "except ApiException as e:\n",
    "    print(\"Exception when calling DefaultApi->api_v1_form_get: %s\\n\" % e)\n"
   ],
   "outputs": [
    {
     "name": "stdout",
     "output_type": "stream",
     "text": [
      "[ApiV1FormEntry(accession_number='0000950123-24-008740', cik='0001067983', name_of_issuer='ALLY FINL INC', title_of_class='COM', cusip='02005N100', ticker='ALLY', value=504589507, ssh_prnamt=12719675, ssh_prnamt_type='SH', investment_discretion='DFND', voting_authority_sole=12719675, voting_authority_shared=0, voting_authority_none=0),\n",
      " ApiV1FormEntry(accession_number='0000950123-24-008740', cik='0001067983', name_of_issuer='ALLY FINL INC', title_of_class='COM', cusip='02005N100', ticker='ALLY', value=111229721, ssh_prnamt=2803875, ssh_prnamt_type='SH', investment_discretion='DFND', voting_authority_sole=2803875, voting_authority_shared=0, voting_authority_none=0),\n",
      " ApiV1FormEntry(accession_number='0000950123-24-008740', cik='0001067983', name_of_issuer='ALLY FINL INC', title_of_class='COM', cusip='02005N100', ticker='ALLY', value=167732694, ssh_prnamt=4228200, ssh_prnamt_type='SH', investment_discretion='DFND', voting_authority_sole=4228200, voting_authority_shared=0, voting_authority_none=0),\n",
      " ApiV1FormEntry(accession_number='0000950123-24-008740', cik='0001067983', name_of_issuer='ALLY FINL INC', title_of_class='COM', cusip='02005N100', ticker='ALLY', value=124444790, ssh_prnamt=3137000, ssh_prnamt_type='SH', investment_discretion='DFND', voting_authority_sole=3137000, voting_authority_shared=0, voting_authority_none=0),\n",
      " ApiV1FormEntry(accession_number='0000950123-24-008740', cik='0001067983', name_of_issuer='ALLY FINL INC', title_of_class='COM', cusip='02005N100', ticker='ALLY', value=191854038, ssh_prnamt=4836250, ssh_prnamt_type='SH', investment_discretion='DFND', voting_authority_sole=4836250, voting_authority_shared=0, voting_authority_none=0),\n",
      " ApiV1FormEntry(accession_number='0000950123-24-008740', cik='0001067983', name_of_issuer='ALLY FINL INC', title_of_class='COM', cusip='02005N100', ticker='ALLY', value=50579250, ssh_prnamt=1275000, ssh_prnamt_type='SH', investment_discretion='DFND', voting_authority_sole=1275000, voting_authority_shared=0, voting_authority_none=0),\n",
      " ApiV1FormEntry(accession_number='0000950123-24-008740', cik='0001067983', name_of_issuer='AMAZON COM INC', title_of_class='COM', cusip='023135106', ticker='AMZN', value=1492663000, ssh_prnamt=7724000, ssh_prnamt_type='SH', investment_discretion='DFND', voting_authority_sole=7724000, voting_authority_shared=0, voting_authority_none=0),\n",
      " ApiV1FormEntry(accession_number='0000950123-24-008740', cik='0001067983', name_of_issuer='AMAZON COM INC', title_of_class='COM', cusip='023135106', ticker='AMZN', value=439837000, ssh_prnamt=2276000, ssh_prnamt_type='SH', investment_discretion='DFND', voting_authority_sole=2276000, voting_authority_shared=0, voting_authority_none=0),\n",
      " ApiV1FormEntry(accession_number='0000950123-24-008740', cik='0001067983', name_of_issuer='AMERICAN EXPRESS CO', title_of_class='COM', cusip='025816109', ticker='AXP', value=266269070, ssh_prnamt=1149942, ssh_prnamt_type='SH', investment_discretion='DFND', voting_authority_sole=1149942, voting_authority_shared=0, voting_authority_none=0),\n",
      " ApiV1FormEntry(accession_number='0000950123-24-008740', cik='0001067983', name_of_issuer='AMERICAN EXPRESS CO', title_of_class='COM', cusip='025816109', ticker='AXP', value=34515084970, ssh_prnamt=149061045, ssh_prnamt_type='SH', investment_discretion='DFND', voting_authority_sole=149061045, voting_authority_shared=0, voting_authority_none=0)]\n"
     ]
    }
   ],
   "execution_count": 7
  },
  {
   "cell_type": "code",
   "id": "78b1c764-1762-4fba-ad34-e22c1cb98307",
   "metadata": {
    "ExecuteTime": {
     "end_time": "2024-10-19T06:21:39.376897Z",
     "start_time": "2024-10-19T06:21:39.375642Z"
    }
   },
   "source": [],
   "outputs": [],
   "execution_count": null
  }
 ],
 "metadata": {
  "kernelspec": {
   "display_name": "Python 3 (ipykernel)",
   "language": "python",
   "name": "python3"
  },
  "language_info": {
   "codemirror_mode": {
    "name": "ipython",
    "version": 3
   },
   "file_extension": ".py",
   "mimetype": "text/x-python",
   "name": "python",
   "nbconvert_exporter": "python",
   "pygments_lexer": "ipython3",
   "version": "3.8.20"
  }
 },
 "nbformat": 4,
 "nbformat_minor": 5
}
